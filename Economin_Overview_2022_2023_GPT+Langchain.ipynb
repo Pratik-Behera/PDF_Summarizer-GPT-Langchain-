{
  "cells": [
    {
      "cell_type": "markdown",
      "metadata": {
        "id": "view-in-github",
        "colab_type": "text"
      },
      "source": [
        "<a href=\"https://colab.research.google.com/github/Pratik-Behera/PDF_Summarizer-GPT-Langchain-/blob/main/Economin_Overview_2022_2023_GPT%2BLangchain.ipynb\" target=\"_parent\"><img src=\"https://colab.research.google.com/assets/colab-badge.svg\" alt=\"Open In Colab\"/></a>"
      ]
    },
    {
      "cell_type": "code",
      "source": [
        "pip install langchain unstructured unstructured[local-inference] openai pinecone-client"
      ],
      "metadata": {
        "id": "XUfPgMP408AK"
      },
      "id": "XUfPgMP408AK",
      "execution_count": null,
      "outputs": []
    },
    {
      "cell_type": "code",
      "execution_count": 1,
      "id": "2d3e92ed",
      "metadata": {
        "id": "2d3e92ed"
      },
      "outputs": [],
      "source": [
        "from langchain.document_loaders import UnstructuredPDFLoader, OnlinePDFLoader\n",
        "from langchain.text_splitter import RecursiveCharacterTextSplitter"
      ]
    },
    {
      "cell_type": "markdown",
      "id": "5166d759",
      "metadata": {
        "id": "5166d759"
      },
      "source": [
        "### Load your data"
      ]
    },
    {
      "cell_type": "code",
      "source": [
        "pip install unstructured[local-inference]"
      ],
      "metadata": {
        "id": "NS2fK2TP3pqf"
      },
      "id": "NS2fK2TP3pqf",
      "execution_count": null,
      "outputs": []
    },
    {
      "cell_type": "code",
      "execution_count": 12,
      "id": "b4a2d6bf",
      "metadata": {
        "id": "b4a2d6bf"
      },
      "outputs": [],
      "source": [
        "# loader = UnstructuredPDFLoader(\"../content/dataset/economic_survey_2022_2023.pdf\")\n",
        "loader = OnlinePDFLoader(\"https://www.indiabudget.gov.in/economicsurvey/doc/echapter.pdf\")"
      ]
    },
    {
      "cell_type": "code",
      "execution_count": 13,
      "id": "bcdac23c",
      "metadata": {
        "id": "bcdac23c",
        "colab": {
          "base_uri": "https://localhost:8080/"
        },
        "outputId": "50c31bdc-2b14-4542-a63d-6685be95c2e1"
      },
      "outputs": [
        {
          "output_type": "stream",
          "name": "stderr",
          "text": [
            "WARNING:unstructured:detectron2 is not installed. Cannot use the hi_res partitioning strategy. Falling back to partitioning with the fast strategy.\n"
          ]
        }
      ],
      "source": [
        "data = loader.load()"
      ]
    },
    {
      "cell_type": "code",
      "execution_count": 14,
      "id": "b4fd7c9e",
      "metadata": {
        "id": "b4fd7c9e",
        "outputId": "6b6519ed-0c5d-4676-925b-729c43875f22",
        "colab": {
          "base_uri": "https://localhost:8080/"
        }
      },
      "outputs": [
        {
          "output_type": "stream",
          "name": "stdout",
          "text": [
            "You have 1 document(s) in your data\n",
            "There are 1137104 characters in your document\n"
          ]
        }
      ],
      "source": [
        "print (f'You have {len(data)} document(s) in your data')\n",
        "print (f'There are {len(data[0].page_content)} characters in your document')"
      ]
    },
    {
      "cell_type": "markdown",
      "id": "8af9b604",
      "metadata": {
        "id": "8af9b604"
      },
      "source": [
        "### Chunk your data up into smaller documents"
      ]
    },
    {
      "cell_type": "code",
      "execution_count": 15,
      "id": "fb3c6f02",
      "metadata": {
        "id": "fb3c6f02"
      },
      "outputs": [],
      "source": [
        "text_splitter = RecursiveCharacterTextSplitter(chunk_size=1000, chunk_overlap=0)\n",
        "texts = text_splitter.split_documents(data)"
      ]
    },
    {
      "cell_type": "code",
      "execution_count": 16,
      "id": "879873a4",
      "metadata": {
        "id": "879873a4",
        "outputId": "2f4a7418-4d37-44f9-92d3-0f2e3e4004df",
        "colab": {
          "base_uri": "https://localhost:8080/"
        }
      },
      "outputs": [
        {
          "output_type": "stream",
          "name": "stdout",
          "text": [
            "Now you have 1181 documents\n"
          ]
        }
      ],
      "source": [
        "print (f'Now you have {len(texts)} documents')"
      ]
    },
    {
      "cell_type": "markdown",
      "id": "838b2843",
      "metadata": {
        "id": "838b2843"
      },
      "source": [
        "### Create embeddings of your documents to get ready for semantic search"
      ]
    },
    {
      "cell_type": "code",
      "execution_count": 17,
      "id": "373e695a",
      "metadata": {
        "id": "373e695a",
        "colab": {
          "base_uri": "https://localhost:8080/"
        },
        "outputId": "e78025e5-6fd4-4e01-ada3-e145baa9af4a"
      },
      "outputs": [
        {
          "output_type": "stream",
          "name": "stderr",
          "text": [
            "/usr/local/lib/python3.9/dist-packages/pinecone/index.py:4: TqdmExperimentalWarning: Using `tqdm.autonotebook.tqdm` in notebook mode. Use `tqdm.tqdm` instead to force console mode (e.g. in jupyter console)\n",
            "  from tqdm.autonotebook import tqdm\n"
          ]
        }
      ],
      "source": [
        "from langchain.vectorstores import Chroma, Pinecone\n",
        "from langchain.embeddings.openai import OpenAIEmbeddings\n",
        "import pinecone"
      ]
    },
    {
      "cell_type": "code",
      "execution_count": 18,
      "id": "0e093ef3",
      "metadata": {
        "hide_input": false,
        "id": "0e093ef3"
      },
      "outputs": [],
      "source": [
        "OPENAI_API_KEY = 'ENTER API KEY HERE'\n",
        "PINECONE_API_KEY = 'ENTER API KEY HERE'\n",
        "PINECONE_API_ENV = 'ENTER API KEY HERE'"
      ]
    },
    {
      "cell_type": "code",
      "execution_count": 19,
      "id": "4e0d1c6a",
      "metadata": {
        "id": "4e0d1c6a"
      },
      "outputs": [],
      "source": [
        "embeddings = OpenAIEmbeddings(openai_api_key=OPENAI_API_KEY)"
      ]
    },
    {
      "cell_type": "code",
      "execution_count": 20,
      "id": "0deb2f6a",
      "metadata": {
        "id": "0deb2f6a"
      },
      "outputs": [],
      "source": [
        "# initialize pinecone\n",
        "pinecone.init(\n",
        "    api_key=PINECONE_API_KEY,  # find at app.pinecone.io\n",
        "    environment=PINECONE_API_ENV  # next to api key in console\n",
        ")\n",
        "index_name = \"default\""
      ]
    },
    {
      "cell_type": "code",
      "execution_count": 21,
      "id": "388988ce",
      "metadata": {
        "id": "388988ce"
      },
      "outputs": [],
      "source": [
        "docsearch = Pinecone.from_texts([t.page_content for t in texts], embeddings, index_name=index_name)"
      ]
    },
    {
      "cell_type": "markdown",
      "id": "3c35dcd9",
      "metadata": {
        "id": "3c35dcd9"
      },
      "source": [
        "### Query those docs to get your answer back"
      ]
    },
    {
      "cell_type": "code",
      "execution_count": 22,
      "id": "f051337b",
      "metadata": {
        "id": "f051337b"
      },
      "outputs": [],
      "source": [
        "from langchain.llms import OpenAI\n",
        "from langchain.chains.question_answering import load_qa_chain"
      ]
    },
    {
      "cell_type": "code",
      "execution_count": 46,
      "id": "6b9b1c03",
      "metadata": {
        "id": "6b9b1c03"
      },
      "outputs": [],
      "source": [
        "llm = OpenAI(temperature=0.5, openai_api_key=OPENAI_API_KEY)\n",
        "chain = load_qa_chain(llm, chain_type=\"stuff\")"
      ]
    },
    {
      "cell_type": "code",
      "execution_count": 47,
      "id": "f67ea7c2",
      "metadata": {
        "id": "f67ea7c2"
      },
      "outputs": [],
      "source": [
        "query = \"What are Social Infrastructure and Employment and how can we improve quality and affordable Health for all and write an essay on it\"\n",
        "docs = docsearch.similarity_search(query, include_metadata=True)"
      ]
    },
    {
      "cell_type": "code",
      "execution_count": 48,
      "id": "3dfd2b7d",
      "metadata": {
        "id": "3dfd2b7d",
        "outputId": "a6937fb6-0bcb-4b0d-aee3-6b4e3e511e9d",
        "colab": {
          "base_uri": "https://localhost:8080/",
          "height": 87
        }
      },
      "outputs": [
        {
          "output_type": "execute_result",
          "data": {
            "text/plain": [
              "' Social Infrastructure and Employment refer to the infrastructure and employment opportunities needed to improve the quality of life of individuals. This includes access to clean drinking water, sanitation, health care, social security, connectivity, employment prospects, etc. Improving quality and affordable health for all requires increased investment in health infrastructure, increased access to health services, improved quality of health care, and improved working conditions for health workers. An essay on this topic should discuss the importance of investing in social infrastructure and employment opportunities, the need to improve access to health services, the importance of improving the quality of health care, and the need to improve working conditions for health workers.'"
            ],
            "application/vnd.google.colaboratory.intrinsic+json": {
              "type": "string"
            }
          },
          "metadata": {},
          "execution_count": 48
        }
      ],
      "source": [
        "chain.run(input_documents=docs, question=query)"
      ]
    },
    {
      "cell_type": "code",
      "execution_count": null,
      "id": "485bc94c",
      "metadata": {
        "id": "485bc94c"
      },
      "outputs": [],
      "source": []
    }
  ],
  "metadata": {
    "kernelspec": {
      "display_name": "Python 3 (ipykernel)",
      "language": "python",
      "name": "python3"
    },
    "language_info": {
      "codemirror_mode": {
        "name": "ipython",
        "version": 3
      },
      "file_extension": ".py",
      "mimetype": "text/x-python",
      "name": "python",
      "nbconvert_exporter": "python",
      "pygments_lexer": "ipython3",
      "version": "3.9.13"
    },
    "colab": {
      "provenance": [],
      "include_colab_link": true
    }
  },
  "nbformat": 4,
  "nbformat_minor": 5
}